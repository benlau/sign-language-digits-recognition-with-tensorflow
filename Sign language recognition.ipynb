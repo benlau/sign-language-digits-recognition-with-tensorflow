{
 "cells": [
  {
   "cell_type": "markdown",
   "metadata": {},
   "source": [
    "# Sign language digits recognition with Tensorflow"
   ]
  },
  {
   "cell_type": "markdown",
   "metadata": {},
   "source": [
    "## Importing the libraries"
   ]
  },
  {
   "cell_type": "code",
   "execution_count": 2,
   "metadata": {},
   "outputs": [
    {
     "name": "stderr",
     "output_type": "stream",
     "text": [
      "/Library/Frameworks/Python.framework/Versions/3.6/lib/python3.6/importlib/_bootstrap.py:205: RuntimeWarning: compiletime version 3.5 of module 'tensorflow.python.framework.fast_tensor_util' does not match runtime version 3.6\n",
      "  return f(*args, **kwds)\n"
     ]
    }
   ],
   "source": [
    "# Libraries to manage the dataset\n",
    "import os\n",
    "from shutil import copyfile\n",
    "import glob\n",
    "\n",
    "# Deep leearnig and machine learning libraries (Keras and scikit learn)\n",
    "from os import listdir\n",
    "import tensorflow as tf\n",
    "from tensorflow.python.framework import ops\n",
    "from sklearn.model_selection import train_test_split\n",
    "from tensorflow.keras.preprocessing.image import ImageDataGenerator\n",
    "\n",
    "# Classic libraries with python\n",
    "import numpy as np\n",
    "import matplotlib.pyplot as plt\n",
    "import cv2\n",
    "%matplotlib inline"
   ]
  },
  {
   "cell_type": "markdown",
   "metadata": {},
   "source": [
    "<a id=\"Data\"></a>\n",
    "## A look at the data"
   ]
  },
  {
   "cell_type": "code",
   "execution_count": 25,
   "metadata": {},
   "outputs": [],
   "source": [
    "# Settings:\n",
    "img_size = 64\n",
    "num_class = 10\n",
    "\n",
    "def get_img(data_path):\n",
    "    # Getting image array from path:\n",
    "    img = cv2.imread(data_path, 0)\n",
    "    img = cv2.resize(img, (img_size, img_size))\n",
    "    return img\n",
    "\n",
    "def get_dataset(dataset_path='dataset'):\n",
    "    labels = listdir(dataset_path) # Geting labels\n",
    "    X = []\n",
    "    Y = []\n",
    "    for i, label in enumerate(labels):\n",
    "        datas_path = dataset_path+'/'+label\n",
    "        for data in listdir(datas_path):\n",
    "            img = get_img(datas_path+'/'+data)\n",
    "            X.append(img)\n",
    "            Y.append(label)\n",
    "    # Create dateset:\n",
    "    X = np.array(X).astype('float32')\n",
    "    # Normalized the input\n",
    "    X = (X - np.mean(X))/np.std(X)\n",
    "    Y = np.array(Y).astype('float32')\n",
    "    # Categorize the output into binary class matrix\n",
    "    Y = tf.keras.utils.to_categorical(Y, num_class)\n",
    "    return X, Y\n",
    "\n",
    "X,Y = get_dataset()\n",
    "# add another axis representing grey-scale\n",
    "X_axis = X[:,:,:,np.newaxis]\n",
    "\n",
    "# Split the test set and validatio set\n",
    "X_train, X_test, Y_train, Y_test = train_test_split(X_axis, Y, test_size = 0.2 , random_state = 42)\n",
    "X_train, X_val, Y_train, Y_val = train_test_split(X_train, Y_train, test_size = 0.2 , random_state = 42)\n"
   ]
  },
  {
   "cell_type": "code",
   "execution_count": 4,
   "metadata": {},
   "outputs": [
    {
     "name": "stdout",
     "output_type": "stream",
     "text": [
      "Total number of images = 2062\n",
      "number of training examples = 1319\n",
      "number of test examples = 413\n",
      "number of test examples = 330\n",
      "X_train shape: (1319, 64, 64, 1)\n",
      "Y_train shape: (1319, 10)\n",
      "X_test shape: (413, 64, 64, 1)\n",
      "Y_test shape: (413, 10)\n"
     ]
    }
   ],
   "source": [
    "print (\"Total number of images = \" + str(X.shape[0]))\n",
    "print (\"number of training examples = \" + str(X_train.shape[0]))\n",
    "print (\"number of test examples = \" + str(X_test.shape[0]))\n",
    "print (\"number of test examples = \" + str(X_val.shape[0]))\n",
    "print (\"X_train shape: \" + str(X_train.shape))\n",
    "print (\"Y_train shape: \" + str(Y_train.shape))\n",
    "print (\"X_test shape: \" + str(X_test.shape))\n",
    "print (\"Y_test shape: \" + str(Y_test.shape))\n"
   ]
  },
  {
   "cell_type": "markdown",
   "metadata": {},
   "source": [
    "<a id='neuralNet'></a>\n",
    "\n",
    "## Model 1: Create our ANN Model"
   ]
  },
  {
   "cell_type": "code",
   "execution_count": 29,
   "metadata": {},
   "outputs": [
    {
     "name": "stdout",
     "output_type": "stream",
     "text": [
      "Train on 1319 samples, validate on 330 samples\n",
      "Epoch 1/30\n",
      "1319/1319 [==============================] - 3s 2ms/step - loss: 2.0947 - acc: 0.3768 - val_loss: 1.0679 - val_acc: 0.6485\n",
      "Epoch 2/30\n",
      "1319/1319 [==============================] - 2s 2ms/step - loss: 1.0400 - acc: 0.6399 - val_loss: 0.8045 - val_acc: 0.7455\n",
      "Epoch 3/30\n",
      "1319/1319 [==============================] - 2s 2ms/step - loss: 0.7107 - acc: 0.7453 - val_loss: 0.8689 - val_acc: 0.7485\n",
      "Epoch 4/30\n",
      "1319/1319 [==============================] - 2s 2ms/step - loss: 0.6252 - acc: 0.7885 - val_loss: 0.7552 - val_acc: 0.7485\n",
      "Epoch 5/30\n",
      "1319/1319 [==============================] - 2s 2ms/step - loss: 0.5454 - acc: 0.8165 - val_loss: 0.7389 - val_acc: 0.7788\n",
      "Epoch 6/30\n",
      "1319/1319 [==============================] - 2s 2ms/step - loss: 0.4392 - acc: 0.8506 - val_loss: 0.7360 - val_acc: 0.7697\n",
      "Epoch 7/30\n",
      "1319/1319 [==============================] - 2s 2ms/step - loss: 0.3558 - acc: 0.8704 - val_loss: 0.6454 - val_acc: 0.7879\n",
      "Epoch 8/30\n",
      "1319/1319 [==============================] - 2s 2ms/step - loss: 0.3304 - acc: 0.8802 - val_loss: 0.6848 - val_acc: 0.8091\n",
      "Epoch 9/30\n",
      "1319/1319 [==============================] - 2s 2ms/step - loss: 0.2721 - acc: 0.9060 - val_loss: 0.7039 - val_acc: 0.8000\n",
      "Epoch 10/30\n",
      "1319/1319 [==============================] - 2s 1ms/step - loss: 0.2364 - acc: 0.9204 - val_loss: 0.7125 - val_acc: 0.8242\n",
      "Epoch 11/30\n",
      "1319/1319 [==============================] - 2s 1ms/step - loss: 0.2266 - acc: 0.9249 - val_loss: 0.5074 - val_acc: 0.8485\n",
      "Epoch 12/30\n",
      "1319/1319 [==============================] - 2s 1ms/step - loss: 0.2365 - acc: 0.9189 - val_loss: 0.6688 - val_acc: 0.8364\n",
      "Epoch 13/30\n",
      "1319/1319 [==============================] - 2s 1ms/step - loss: 0.1887 - acc: 0.9356 - val_loss: 0.5867 - val_acc: 0.8273\n",
      "Epoch 14/30\n",
      "1319/1319 [==============================] - 2s 2ms/step - loss: 0.1571 - acc: 0.9484 - val_loss: 0.6438 - val_acc: 0.8152\n",
      "Epoch 15/30\n",
      "1319/1319 [==============================] - 2s 1ms/step - loss: 0.1729 - acc: 0.9378 - val_loss: 0.6227 - val_acc: 0.8333\n",
      "Epoch 16/30\n",
      "1319/1319 [==============================] - 2s 2ms/step - loss: 0.1251 - acc: 0.9515 - val_loss: 0.6452 - val_acc: 0.8333\n",
      "Epoch 17/30\n",
      "1319/1319 [==============================] - 2s 1ms/step - loss: 0.1578 - acc: 0.9484 - val_loss: 0.7576 - val_acc: 0.8091\n",
      "Epoch 18/30\n",
      "1319/1319 [==============================] - 2s 1ms/step - loss: 0.1438 - acc: 0.9530 - val_loss: 0.7266 - val_acc: 0.8061\n",
      "Epoch 19/30\n",
      "1319/1319 [==============================] - 2s 1ms/step - loss: 0.1008 - acc: 0.9613 - val_loss: 0.6956 - val_acc: 0.8576\n",
      "Epoch 20/30\n",
      "1319/1319 [==============================] - 2s 1ms/step - loss: 0.1312 - acc: 0.9568 - val_loss: 0.7995 - val_acc: 0.8152\n",
      "Epoch 21/30\n",
      "1319/1319 [==============================] - 2s 2ms/step - loss: 0.0925 - acc: 0.9659 - val_loss: 0.7232 - val_acc: 0.8364\n",
      "Epoch 22/30\n",
      "1319/1319 [==============================] - 2s 1ms/step - loss: 0.0885 - acc: 0.9704 - val_loss: 0.8333 - val_acc: 0.8152\n",
      "Epoch 23/30\n",
      "1319/1319 [==============================] - 2s 1ms/step - loss: 0.1166 - acc: 0.9568 - val_loss: 0.7618 - val_acc: 0.8182\n",
      "Epoch 24/30\n",
      "1319/1319 [==============================] - 2s 1ms/step - loss: 0.1138 - acc: 0.9613 - val_loss: 1.0400 - val_acc: 0.8061\n",
      "Epoch 25/30\n",
      "1319/1319 [==============================] - 2s 1ms/step - loss: 0.1202 - acc: 0.9598 - val_loss: 0.8517 - val_acc: 0.8182\n",
      "Epoch 26/30\n",
      "1319/1319 [==============================] - 2s 1ms/step - loss: 0.1567 - acc: 0.9545 - val_loss: 0.7724 - val_acc: 0.8242\n",
      "Epoch 27/30\n",
      "1319/1319 [==============================] - 2s 1ms/step - loss: 0.1553 - acc: 0.9492 - val_loss: 0.7319 - val_acc: 0.8273\n",
      "Epoch 28/30\n",
      "1319/1319 [==============================] - 2s 1ms/step - loss: 0.1269 - acc: 0.9568 - val_loss: 0.7791 - val_acc: 0.8364\n",
      "Epoch 29/30\n",
      "1319/1319 [==============================] - 2s 1ms/step - loss: 0.1243 - acc: 0.9583 - val_loss: 0.7251 - val_acc: 0.8212\n",
      "Epoch 30/30\n",
      "1319/1319 [==============================] - 2s 2ms/step - loss: 0.0773 - acc: 0.9735 - val_loss: 0.7625 - val_acc: 0.8333\n"
     ]
    },
    {
     "data": {
      "text/plain": [
       "<tensorflow.python.keras.callbacks.History at 0x14306cfd0>"
      ]
     },
     "execution_count": 29,
     "metadata": {},
     "output_type": "execute_result"
    }
   ],
   "source": [
    "model1 = tf.keras.models.Sequential([\n",
    "  tf.keras.layers.Flatten(),\n",
    "  tf.keras.layers.Dense(512, activation=tf.nn.relu),\n",
    "  tf.keras.layers.Dropout(0.3),\n",
    "  tf.keras.layers.Dense(256, activation=tf.nn.relu),\n",
    "  tf.keras.layers.Dropout(0.2),\n",
    "  tf.keras.layers.Dense(10, activation=tf.nn.softmax)\n",
    "])\n",
    "\n",
    "model1.compile(optimizer=tf.keras.optimizers.Adam(lr=0.001),\n",
    "              loss='categorical_crossentropy',\n",
    "              metrics=['accuracy'])\n",
    "tensorboard = tf.keras.callbacks.TensorBoard(log_dir=\"logs/model1\")\n",
    "model1.fit(X_train, Y_train, batch_size=32, validation_data=[X_val, Y_val], epochs=30, callbacks=[tensorboard])"
   ]
  },
  {
   "cell_type": "markdown",
   "metadata": {},
   "source": [
    "<a id='runTheModel'></a>\n",
    "\n",
    "## Evaluate the result of Model 1"
   ]
  },
  {
   "cell_type": "code",
   "execution_count": 28,
   "metadata": {
    "scrolled": true
   },
   "outputs": [
    {
     "name": "stdout",
     "output_type": "stream",
     "text": [
      "_________________________________________________________________\n",
      "Layer (type)                 Output Shape              Param #   \n",
      "=================================================================\n",
      "flatten_8 (Flatten)          (None, 4096)              0         \n",
      "_________________________________________________________________\n",
      "dense_21 (Dense)             (None, 512)               2097664   \n",
      "_________________________________________________________________\n",
      "dropout_13 (Dropout)         (None, 512)               0         \n",
      "_________________________________________________________________\n",
      "dense_22 (Dense)             (None, 256)               131328    \n",
      "_________________________________________________________________\n",
      "dropout_14 (Dropout)         (None, 256)               0         \n",
      "_________________________________________________________________\n",
      "dense_23 (Dense)             (None, 128)               32896     \n",
      "_________________________________________________________________\n",
      "dropout_15 (Dropout)         (None, 128)               0         \n",
      "_________________________________________________________________\n",
      "dense_24 (Dense)             (None, 10)                1290      \n",
      "=================================================================\n",
      "Total params: 2,263,178\n",
      "Trainable params: 2,263,178\n",
      "Non-trainable params: 0\n",
      "_________________________________________________________________\n",
      "413/413 [==============================] - 0s 178us/step\n",
      "Loss: 1.1721  Accuaracy: 0.7482%\n"
     ]
    }
   ],
   "source": [
    "model1.summary()\n",
    "score = model1.evaluate(X_test, Y_test)\n",
    "print('Loss: {:.4f}  Accuaracy: {:.4}%'.format(score[0],score[1]))\n",
    "\n"
   ]
  },
  {
   "cell_type": "markdown",
   "metadata": {},
   "source": [
    "<a id='CNNModel'></a>\n",
    "\n",
    "## Model 2: Create our CNN Model"
   ]
  },
  {
   "cell_type": "code",
   "execution_count": 32,
   "metadata": {},
   "outputs": [
    {
     "name": "stdout",
     "output_type": "stream",
     "text": [
      "Train on 1319 samples, validate on 330 samples\n",
      "Epoch 1/30\n",
      "1319/1319 [==============================] - 5s 4ms/step - loss: 1.2185 - acc: 0.5898 - val_loss: 1.2614 - val_acc: 0.5242\n",
      "Epoch 2/30\n",
      "1319/1319 [==============================] - 5s 4ms/step - loss: 0.4809 - acc: 0.8431 - val_loss: 0.7100 - val_acc: 0.7970\n",
      "Epoch 3/30\n",
      "1319/1319 [==============================] - 5s 4ms/step - loss: 0.2844 - acc: 0.9128 - val_loss: 0.5500 - val_acc: 0.8727\n",
      "Epoch 4/30\n",
      "1319/1319 [==============================] - 4s 3ms/step - loss: 0.1912 - acc: 0.9500 - val_loss: 0.3674 - val_acc: 0.9182\n",
      "Epoch 5/30\n",
      "1319/1319 [==============================] - 4s 3ms/step - loss: 0.1360 - acc: 0.9629 - val_loss: 0.3014 - val_acc: 0.9242\n",
      "Epoch 6/30\n",
      "1319/1319 [==============================] - 4s 3ms/step - loss: 0.1026 - acc: 0.9742 - val_loss: 0.2734 - val_acc: 0.9333\n",
      "Epoch 7/30\n",
      "1319/1319 [==============================] - 4s 3ms/step - loss: 0.0823 - acc: 0.9773 - val_loss: 0.2518 - val_acc: 0.9333\n",
      "Epoch 8/30\n",
      "1319/1319 [==============================] - 4s 3ms/step - loss: 0.0738 - acc: 0.9818 - val_loss: 0.2085 - val_acc: 0.9273\n",
      "Epoch 9/30\n",
      "1319/1319 [==============================] - 5s 4ms/step - loss: 0.0625 - acc: 0.9879 - val_loss: 0.1650 - val_acc: 0.9485\n",
      "Epoch 10/30\n",
      "1319/1319 [==============================] - 5s 4ms/step - loss: 0.0423 - acc: 0.9924 - val_loss: 0.1446 - val_acc: 0.9576\n",
      "Epoch 11/30\n",
      "1319/1319 [==============================] - 5s 4ms/step - loss: 0.0381 - acc: 0.9901 - val_loss: 0.1559 - val_acc: 0.9545\n",
      "Epoch 12/30\n",
      "1319/1319 [==============================] - 4s 3ms/step - loss: 0.0275 - acc: 0.9962 - val_loss: 0.1388 - val_acc: 0.9576\n",
      "Epoch 13/30\n",
      "1319/1319 [==============================] - 4s 3ms/step - loss: 0.0548 - acc: 0.9856 - val_loss: 0.2681 - val_acc: 0.9061\n",
      "Epoch 14/30\n",
      "1319/1319 [==============================] - 4s 3ms/step - loss: 0.0348 - acc: 0.9939 - val_loss: 0.1708 - val_acc: 0.9515\n",
      "Epoch 15/30\n",
      "1319/1319 [==============================] - 5s 3ms/step - loss: 0.0306 - acc: 0.9932 - val_loss: 0.1778 - val_acc: 0.9515\n",
      "Epoch 16/30\n",
      "1319/1319 [==============================] - 4s 3ms/step - loss: 0.0162 - acc: 0.9985 - val_loss: 0.1429 - val_acc: 0.9576\n",
      "Epoch 17/30\n",
      "1319/1319 [==============================] - 4s 3ms/step - loss: 0.0154 - acc: 0.9962 - val_loss: 0.1395 - val_acc: 0.9485\n",
      "Epoch 18/30\n",
      "1319/1319 [==============================] - 5s 4ms/step - loss: 0.0133 - acc: 0.9985 - val_loss: 0.1054 - val_acc: 0.9727\n",
      "Epoch 19/30\n",
      "1319/1319 [==============================] - 5s 4ms/step - loss: 0.0095 - acc: 0.9992 - val_loss: 0.1041 - val_acc: 0.9667\n",
      "Epoch 20/30\n",
      "1319/1319 [==============================] - 5s 4ms/step - loss: 0.0320 - acc: 0.9932 - val_loss: 0.1317 - val_acc: 0.9515\n",
      "Epoch 21/30\n",
      "1319/1319 [==============================] - 4s 3ms/step - loss: 0.0663 - acc: 0.9757 - val_loss: 0.1729 - val_acc: 0.9455\n",
      "Epoch 22/30\n",
      "1319/1319 [==============================] - 5s 4ms/step - loss: 0.0358 - acc: 0.9901 - val_loss: 0.1507 - val_acc: 0.9515\n",
      "Epoch 23/30\n",
      "1319/1319 [==============================] - 5s 3ms/step - loss: 0.0233 - acc: 0.9955 - val_loss: 0.1292 - val_acc: 0.9636\n",
      "Epoch 24/30\n",
      "1319/1319 [==============================] - 5s 4ms/step - loss: 0.0496 - acc: 0.9848 - val_loss: 0.2104 - val_acc: 0.9273\n",
      "Epoch 25/30\n",
      "1319/1319 [==============================] - 4s 3ms/step - loss: 0.0387 - acc: 0.9886 - val_loss: 0.1726 - val_acc: 0.9576\n",
      "Epoch 26/30\n",
      "1319/1319 [==============================] - 4s 3ms/step - loss: 0.0224 - acc: 0.9947 - val_loss: 0.1108 - val_acc: 0.9545\n",
      "Epoch 27/30\n",
      "1319/1319 [==============================] - 4s 3ms/step - loss: 0.0147 - acc: 0.9962 - val_loss: 0.0946 - val_acc: 0.9636\n",
      "Epoch 28/30\n",
      "1319/1319 [==============================] - 4s 3ms/step - loss: 0.0262 - acc: 0.9939 - val_loss: 0.1086 - val_acc: 0.9667\n",
      "Epoch 29/30\n",
      "1319/1319 [==============================] - 5s 4ms/step - loss: 0.0260 - acc: 0.9947 - val_loss: 0.1213 - val_acc: 0.9667\n",
      "Epoch 30/30\n",
      "1319/1319 [==============================] - 5s 4ms/step - loss: 0.0171 - acc: 0.9970 - val_loss: 0.1468 - val_acc: 0.9606\n"
     ]
    },
    {
     "data": {
      "text/plain": [
       "<tensorflow.python.keras.callbacks.History at 0x14a303518>"
      ]
     },
     "execution_count": 32,
     "metadata": {},
     "output_type": "execute_result"
    }
   ],
   "source": [
    "# build our CNN\n",
    "model2 = tf.keras.models.Sequential()\n",
    "# Convolutional Blocks: (1) Convolution, (2) Activation, (3) Pooling\n",
    "model2.add(tf.keras.layers.Conv2D(input_shape=(64, 64, 1), filters=64, kernel_size=(4,4), strides=(2)))\n",
    "model2.add(tf.keras.layers.Activation('relu'))\n",
    "model2.add(tf.keras.layers.MaxPooling2D(pool_size=2))\n",
    "#outputs a (20, 20, 32) matrix\n",
    "model2.add(tf.keras.layers.Conv2D(filters=64, kernel_size=(4,4), strides=(1)))\n",
    "model2.add(tf.keras.layers.Activation('relu'))\n",
    "#outputs a (8, 8, 32) matrix\n",
    "model2.add(tf.keras.layers.MaxPooling2D(pool_size=2))\n",
    "\n",
    "# dropout helps with over fitting by randomly dropping nodes each epoch\n",
    "model2.add(tf.keras.layers.Dropout(0.3))\n",
    "model2.add(tf.keras.layers.Flatten())\n",
    "model2.add(tf.keras.layers.Dense(256, activation='relu'))\n",
    "model2.add(tf.keras.layers.BatchNormalization())\n",
    "\n",
    "model2.add(tf.keras.layers.Dense(10, activation='softmax'))\n",
    "\n",
    "model2.compile(loss='categorical_crossentropy',\n",
    "             optimizer='adam',\n",
    "             metrics=['accuracy'])\n",
    "tensorboard = tf.keras.callbacks.TensorBoard(log_dir=\"logs/model2\")\n",
    "model2.fit(X_train, Y_train, batch_size=32, validation_data=[X_val, Y_val], epochs=30, callbacks=[tensorboard])\n"
   ]
  },
  {
   "cell_type": "markdown",
   "metadata": {},
   "source": [
    "<a id='runTheModel'></a>\n",
    "\n",
    "## Evaluate the result of Model 2"
   ]
  },
  {
   "cell_type": "code",
   "execution_count": 33,
   "metadata": {},
   "outputs": [
    {
     "name": "stdout",
     "output_type": "stream",
     "text": [
      "_________________________________________________________________\n",
      "Layer (type)                 Output Shape              Param #   \n",
      "=================================================================\n",
      "conv2d_8 (Conv2D)            (None, 31, 31, 64)        1088      \n",
      "_________________________________________________________________\n",
      "activation_8 (Activation)    (None, 31, 31, 64)        0         \n",
      "_________________________________________________________________\n",
      "max_pooling2d_5 (MaxPooling2 (None, 15, 15, 64)        0         \n",
      "_________________________________________________________________\n",
      "conv2d_9 (Conv2D)            (None, 12, 12, 64)        65600     \n",
      "_________________________________________________________________\n",
      "activation_9 (Activation)    (None, 12, 12, 64)        0         \n",
      "_________________________________________________________________\n",
      "max_pooling2d_6 (MaxPooling2 (None, 6, 6, 64)          0         \n",
      "_________________________________________________________________\n",
      "dropout_19 (Dropout)         (None, 6, 6, 64)          0         \n",
      "_________________________________________________________________\n",
      "flatten_11 (Flatten)         (None, 2304)              0         \n",
      "_________________________________________________________________\n",
      "dense_30 (Dense)             (None, 256)               590080    \n",
      "_________________________________________________________________\n",
      "batch_normalization_4 (Batch (None, 256)               1024      \n",
      "_________________________________________________________________\n",
      "dense_31 (Dense)             (None, 10)                2570      \n",
      "=================================================================\n",
      "Total params: 660,362\n",
      "Trainable params: 659,850\n",
      "Non-trainable params: 512\n",
      "_________________________________________________________________\n",
      "Loss: 0.2562  Accuaracy: 0.9419%\n"
     ]
    }
   ],
   "source": [
    "model2.summary()\n",
    "score = model2.evaluate(X_test, Y_test, verbose=0)\n",
    "print('Loss: {:.4f}  Accuaracy: {:.4}%'.format(score[0],score[1]))"
   ]
  },
  {
   "cell_type": "markdown",
   "metadata": {},
   "source": [
    "## Predict the image"
   ]
  },
  {
   "cell_type": "code",
   "execution_count": 35,
   "metadata": {
    "scrolled": true
   },
   "outputs": [
    {
     "name": "stdout",
     "output_type": "stream",
     "text": [
      "Correct Result is  [1. 0. 0. 0. 0. 0. 0. 0. 0. 0.] , Answer is  [0]\n",
      "Predicted Result from Neural net: [1. 0. 0. 0. 0. 0. 0. 0. 0. 0.] , Predicted Answer is  [0]\n",
      "Predicted Result from CNN: [1. 0. 0. 0. 0. 0. 0. 0. 0. 0.] , Predicted Answer is  [0]\n"
     ]
    },
    {
     "data": {
      "image/png": "[encoded data removed]",
      "text/plain": [
       "<matplotlib.figure.Figure at 0x147cb2e80>"
      ]
     },
     "metadata": {
      "needs_background": "light"
     },
     "output_type": "display_data"
    }
   ],
   "source": [
    "testNum = 182\n",
    "test_image = X_axis[testNum]\n",
    "plt.imshow(test_image[:,:,0])\n",
    "test_image = np.expand_dims(test_image, axis = 0)\n",
    "\n",
    "result1 = model1.predict(test_image)\n",
    "result2 = model2.predict(test_image)\n",
    "# For external image\n",
    "#test_img = get_img('./test.jpg')\n",
    "# plt.imshow(test_img)\n",
    "#test_img = np.expand_dims(test_img, axis = 0)\n",
    "# test_img = test_img[:,:,:,np.newaxis]\n",
    "result1 = model1.predict(test_image)\n",
    "result2 = model2.predict(test_image)\n",
    "result1_val = [i for i, j in enumerate(np.round(result1,1)[0]) if j == max(np.round(result1,1)[0])]\n",
    "result2_val = [i for i, j in enumerate(np.round(result2,1)[0]) if j == max(np.round(result2,1)[0])]\n",
    "print('Correct Result is ',Y[testNum], ', Answer is ',[i for i, j in enumerate(Y[testNum]) if j == max(Y[testNum])])\n",
    "print('Predicted Result from Neural net:',   np.round(result1,1)[0], ', Predicted Answer is ',result1_val)\n",
    "print('Predicted Result from CNN:', np.round(result2,1)[0], ', Predicted Answer is ',result2_val)"
   ]
  },
  {
   "cell_type": "markdown",
   "metadata": {},
   "source": [
    "# Model 3: CNN Model with Image Augmentation"
   ]
  },
  {
   "cell_type": "code",
   "execution_count": 36,
   "metadata": {},
   "outputs": [
    {
     "name": "stdout",
     "output_type": "stream",
     "text": [
      "Epoch 1/30\n",
      "42/42 [==============================] - 9s 206ms/step - loss: 2.0716 - acc: 0.3204 - val_loss: 1.7521 - val_acc: 0.3636\n",
      "Epoch 2/30\n",
      "42/42 [==============================] - 4s 107ms/step - loss: 1.3523 - acc: 0.5285 - val_loss: 0.8932 - val_acc: 0.7727\n",
      "Epoch 3/30\n",
      "42/42 [==============================] - 5s 111ms/step - loss: 1.0075 - acc: 0.6550 - val_loss: 0.6805 - val_acc: 0.8939\n",
      "Epoch 4/30\n",
      "42/42 [==============================] - 5s 114ms/step - loss: 0.7426 - acc: 0.7350 - val_loss: 0.4834 - val_acc: 0.9152\n",
      "Epoch 5/30\n",
      "42/42 [==============================] - 7s 159ms/step - loss: 0.6564 - acc: 0.7879 - val_loss: 0.4663 - val_acc: 0.8818\n",
      "Epoch 6/30\n",
      "42/42 [==============================] - 6s 140ms/step - loss: 0.6061 - acc: 0.8009 - val_loss: 0.2892 - val_acc: 0.9455\n",
      "Epoch 7/30\n",
      "42/42 [==============================] - 7s 161ms/step - loss: 0.5525 - acc: 0.8102 - val_loss: 0.2556 - val_acc: 0.9273\n",
      "Epoch 8/30\n",
      "42/42 [==============================] - 4s 102ms/step - loss: 0.4569 - acc: 0.8515 - val_loss: 0.2008 - val_acc: 0.9455\n",
      "Epoch 9/30\n",
      "42/42 [==============================] - 4s 98ms/step - loss: 0.4137 - acc: 0.8627 - val_loss: 0.1743 - val_acc: 0.9545\n",
      "Epoch 10/30\n",
      "42/42 [==============================] - 4s 97ms/step - loss: 0.4401 - acc: 0.8608 - val_loss: 0.1498 - val_acc: 0.9667\n",
      "Epoch 11/30\n",
      "42/42 [==============================] - 4s 94ms/step - loss: 0.3476 - acc: 0.8984 - val_loss: 0.1273 - val_acc: 0.9667\n",
      "Epoch 12/30\n",
      "42/42 [==============================] - 4s 100ms/step - loss: 0.3157 - acc: 0.8902 - val_loss: 0.1287 - val_acc: 0.9636\n",
      "Epoch 13/30\n",
      "42/42 [==============================] - 5s 110ms/step - loss: 0.3341 - acc: 0.8891 - val_loss: 0.0990 - val_acc: 0.9788\n",
      "Epoch 14/30\n",
      "42/42 [==============================] - 5s 118ms/step - loss: 0.3027 - acc: 0.8962 - val_loss: 0.0984 - val_acc: 0.9636\n",
      "Epoch 15/30\n",
      "42/42 [==============================] - 5s 120ms/step - loss: 0.2925 - acc: 0.9077 - val_loss: 0.0940 - val_acc: 0.9758\n",
      "Epoch 16/30\n",
      "42/42 [==============================] - 6s 144ms/step - loss: 0.2965 - acc: 0.8921 - val_loss: 0.0861 - val_acc: 0.9788\n",
      "Epoch 17/30\n",
      "42/42 [==============================] - 4s 94ms/step - loss: 0.2887 - acc: 0.9073 - val_loss: 0.0598 - val_acc: 0.9879\n",
      "Epoch 18/30\n",
      "42/42 [==============================] - 4s 95ms/step - loss: 0.2294 - acc: 0.9256 - val_loss: 0.1050 - val_acc: 0.9727\n",
      "Epoch 19/30\n",
      "42/42 [==============================] - 5s 129ms/step - loss: 0.2303 - acc: 0.9245 - val_loss: 0.0773 - val_acc: 0.9818\n",
      "Epoch 20/30\n",
      "42/42 [==============================] - 4s 104ms/step - loss: 0.2420 - acc: 0.9207 - val_loss: 0.0771 - val_acc: 0.9879\n",
      "Epoch 21/30\n",
      "42/42 [==============================] - 5s 109ms/step - loss: 0.2043 - acc: 0.9442 - val_loss: 0.1551 - val_acc: 0.9576\n",
      "Epoch 22/30\n",
      "42/42 [==============================] - 5s 124ms/step - loss: 0.2142 - acc: 0.9323 - val_loss: 0.0739 - val_acc: 0.9818\n",
      "Epoch 23/30\n",
      "42/42 [==============================] - 4s 103ms/step - loss: 0.1939 - acc: 0.9319 - val_loss: 0.0631 - val_acc: 0.9788\n",
      "Epoch 24/30\n",
      "42/42 [==============================] - 5s 127ms/step - loss: 0.1574 - acc: 0.9568 - val_loss: 0.0413 - val_acc: 0.9939\n",
      "Epoch 25/30\n",
      "42/42 [==============================] - 5s 124ms/step - loss: 0.1761 - acc: 0.9457 - val_loss: 0.0417 - val_acc: 0.9909\n",
      "Epoch 26/30\n",
      "42/42 [==============================] - 6s 144ms/step - loss: 0.1625 - acc: 0.9457 - val_loss: 0.0448 - val_acc: 0.9909\n",
      "Epoch 27/30\n",
      "42/42 [==============================] - 5s 121ms/step - loss: 0.1956 - acc: 0.9315 - val_loss: 0.0428 - val_acc: 0.9939\n",
      "Epoch 28/30\n",
      "42/42 [==============================] - 5s 126ms/step - loss: 0.1839 - acc: 0.9401 - val_loss: 0.0272 - val_acc: 0.9939\n",
      "Epoch 29/30\n",
      "42/42 [==============================] - 7s 175ms/step - loss: 0.1603 - acc: 0.9483 - val_loss: 0.0259 - val_acc: 0.9970\n",
      "Epoch 30/30\n",
      "42/42 [==============================] - 6s 137ms/step - loss: 0.1566 - acc: 0.9486 - val_loss: 0.0357 - val_acc: 0.9939\n"
     ]
    },
    {
     "data": {
      "text/plain": [
       "<tensorflow.python.keras.callbacks.History at 0x147579518>"
      ]
     },
     "execution_count": 36,
     "metadata": {},
     "output_type": "execute_result"
    }
   ],
   "source": [
    "# Create a more diverse dataset by rotating, shifting and zooming the image\n",
    "datagen = ImageDataGenerator(\n",
    "    rotation_range=16,\n",
    "    width_shift_range=0.12,\n",
    "    height_shift_range=0.12,\n",
    "    zoom_range=0.12\n",
    "    )\n",
    "   \n",
    "datagen.fit(X_train)\n",
    "\n",
    "\n",
    "# Model3: Add Image Generate\n",
    "# build our CNN\n",
    "model3 = tf.keras.models.Sequential()\n",
    "\n",
    "# Convolutional Blocks: (1) Convolution, (2) Activation, (3) Pooling\n",
    "model3.add(tf.keras.layers.Conv2D(input_shape=(64, 64, 1), filters=64, kernel_size=(4,4), strides=(2)))\n",
    "model3.add(tf.keras.layers.Activation('relu'))\n",
    "model3.add(tf.keras.layers.MaxPooling2D(pool_size=2))\n",
    "#outputs a (20, 20, 32) matrix\n",
    "model3.add(tf.keras.layers.Conv2D(filters=64, kernel_size=(4,4), strides=(1)))\n",
    "model3.add(tf.keras.layers.Activation('relu'))\n",
    "#outputs a (8, 8, 32) matrix\n",
    "model3.add(tf.keras.layers.MaxPooling2D(pool_size=2))\n",
    "\n",
    "# dropout helps with over fitting by randomly dropping nodes each epoch\n",
    "model3.add(tf.keras.layers.Dropout(0.3))\n",
    "\n",
    "model3.add(tf.keras.layers.Flatten())\n",
    "model3.add(tf.keras.layers.Dense(256, activation='relu'))\n",
    "model3.add(tf.keras.layers.BatchNormalization())\n",
    "\n",
    "model3.add(tf.keras.layers.Dense(10, activation='softmax'))\n",
    "\n",
    "model3.compile(loss='categorical_crossentropy',\n",
    "             optimizer='adam',\n",
    "             metrics=['accuracy'])\n",
    "tensorboard = tf.keras.callbacks.TensorBoard(log_dir=\"logs/model2\")\n",
    "model3.fit_generator(datagen.flow(X_train, Y_train, batch_size=32), validation_data=(X_val, Y_val), epochs=30, callbacks=[tensorboard])"
   ]
  },
  {
   "cell_type": "markdown",
   "metadata": {},
   "source": [
    "## Evaluate the result of Model 3"
   ]
  },
  {
   "cell_type": "code",
   "execution_count": 37,
   "metadata": {},
   "outputs": [
    {
     "name": "stdout",
     "output_type": "stream",
     "text": [
      "_________________________________________________________________\n",
      "Layer (type)                 Output Shape              Param #   \n",
      "=================================================================\n",
      "conv2d_10 (Conv2D)           (None, 31, 31, 64)        1088      \n",
      "_________________________________________________________________\n",
      "activation_10 (Activation)   (None, 31, 31, 64)        0         \n",
      "_________________________________________________________________\n",
      "max_pooling2d_7 (MaxPooling2 (None, 15, 15, 64)        0         \n",
      "_________________________________________________________________\n",
      "conv2d_11 (Conv2D)           (None, 12, 12, 64)        65600     \n",
      "_________________________________________________________________\n",
      "activation_11 (Activation)   (None, 12, 12, 64)        0         \n",
      "_________________________________________________________________\n",
      "max_pooling2d_8 (MaxPooling2 (None, 6, 6, 64)          0         \n",
      "_________________________________________________________________\n",
      "dropout_20 (Dropout)         (None, 6, 6, 64)          0         \n",
      "_________________________________________________________________\n",
      "flatten_12 (Flatten)         (None, 2304)              0         \n",
      "_________________________________________________________________\n",
      "dense_32 (Dense)             (None, 256)               590080    \n",
      "_________________________________________________________________\n",
      "batch_normalization_5 (Batch (None, 256)               1024      \n",
      "_________________________________________________________________\n",
      "dense_33 (Dense)             (None, 10)                2570      \n",
      "=================================================================\n",
      "Total params: 660,362\n",
      "Trainable params: 659,850\n",
      "Non-trainable params: 512\n",
      "_________________________________________________________________\n",
      "Loss: 0.0711  Accuaracy: 0.9782%\n"
     ]
    }
   ],
   "source": [
    "model3.summary()\n",
    "score = model3.evaluate(X_test, Y_test, verbose=0)\n",
    "print('Loss: {:.4f}  Accuaracy: {:.4}%'.format(score[0],score[1]))"
   ]
  },
  {
   "cell_type": "markdown",
   "metadata": {},
   "source": [
    "Yay ! We clearly see an improvement ! "
   ]
  }
 ],
 "metadata": {
  "kernelspec": {
   "display_name": "Python 3",
   "language": "python",
   "name": "python3"
  },
  "language_info": {
   "codemirror_mode": {
    "name": "ipython",
    "version": 3
   },
   "file_extension": ".py",
   "mimetype": "text/x-python",
   "name": "python",
   "nbconvert_exporter": "python",
   "pygments_lexer": "ipython3",
   "version": "3.6.1"
  }
 },
 "nbformat": 4,
 "nbformat_minor": 2
}
